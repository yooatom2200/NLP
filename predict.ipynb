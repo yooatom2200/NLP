{
 "cells": [
  {
   "cell_type": "code",
   "execution_count": 2,
   "metadata": {
    "ExecuteTime": {
     "end_time": "2021-01-08T07:40:53.852306Z",
     "start_time": "2021-01-08T07:40:53.848626Z"
    }
   },
   "outputs": [],
   "source": [
    "import json\n",
    "import os\n",
    "import time\n",
    "import parmap\n",
    "\n",
    "import nltk\n",
    "import numpy as np\n",
    "from konlpy.tag import Okt\n",
    "from khaiii import KhaiiiApi\n",
    "from tensorflow.keras import models, layers, optimizers, losses, metrics\n",
    "import parmap"
   ]
  },
  {
   "cell_type": "code",
   "execution_count": 3,
   "metadata": {
    "ExecuteTime": {
     "end_time": "2021-01-08T07:40:53.860663Z",
     "start_time": "2021-01-08T07:40:53.853895Z"
    }
   },
   "outputs": [],
   "source": [
    "def read_data(filename):\n",
    "    with open(filename, 'r') as f:\n",
    "        data = [line.split('\\t') for line in f.read().splitlines()]     \n",
    "        # txt 파일의 헤더(id document label)는 제외하기\n",
    "        data = data[1:]\n",
    "    return data\n",
    "\n",
    "def tokenizing(docs):\n",
    "    return ['/'.join(t) for t in okt.pos(docs,norm=True, stem=True)]\n",
    "\n",
    "def tokenizing_par(row):\n",
    "    return tokenizing(row[1]), row[2]\n",
    "\n",
    "def term_frequency(doc):\n",
    "    return [doc.count(word) for word in selected_words]"
   ]
  },
  {
   "cell_type": "code",
   "execution_count": 4,
   "metadata": {
    "ExecuteTime": {
     "end_time": "2021-01-08T07:40:56.199685Z",
     "start_time": "2021-01-08T07:40:53.862865Z"
    }
   },
   "outputs": [
    {
     "data": {
      "text/plain": [
       "[('순천향대', 'Noun'),\n",
       " ('학교', 'Noun'),\n",
       " ('컴퓨터공학', 'Noun'),\n",
       " ('과', 'Josa'),\n",
       " ('16', 'Number'),\n",
       " ('학번', 'Noun'),\n",
       " ('송희령', 'Noun')]"
      ]
     },
     "execution_count": 4,
     "metadata": {},
     "output_type": "execute_result"
    }
   ],
   "source": [
    "okt = Okt()\n",
    "okt.pos('순천향대학교 컴퓨터공학과 16학번 송희령') #테스트"
   ]
  },
  {
   "cell_type": "code",
   "execution_count": 5,
   "metadata": {
    "ExecuteTime": {
     "end_time": "2021-01-08T07:40:56.759740Z",
     "start_time": "2021-01-08T07:40:56.200919Z"
    }
   },
   "outputs": [],
   "source": [
    "train_df = read_data('ratings_train.txt')\n",
    "test_df = read_data('ratings_test.txt')"
   ]
  },
  {
   "cell_type": "code",
   "execution_count": 6,
   "metadata": {
    "ExecuteTime": {
     "end_time": "2021-01-08T07:40:56.763160Z",
     "start_time": "2021-01-08T07:40:56.760958Z"
    }
   },
   "outputs": [
    {
     "name": "stdout",
     "output_type": "stream",
     "text": [
      "50000\n"
     ]
    }
   ],
   "source": [
    "print(len(test_df))"
   ]
  },
  {
   "cell_type": "code",
   "execution_count": 7,
   "metadata": {
    "ExecuteTime": {
     "end_time": "2021-01-08T07:49:51.816992Z",
     "start_time": "2021-01-08T07:40:56.764112Z"
    }
   },
   "outputs": [],
   "source": [
    "train_pos = [] #훈련데이터\n",
    "test_pos = [] #테스트 데이터\n",
    "for row in train_df:\n",
    "    try:\n",
    "        train_pos0 = [tokenizing(row[1]),row[2]] \n",
    "        #리스트 안에 한문장에 대해서 위에서 만든 tokenizing함수를 통해서 [[토큰화텍스트],긍/부정 여부]를\n",
    "        #리스트의 각문장별로 요소로 넣는다.\n",
    "        train_pos.append(train_pos0)\n",
    "    except:\n",
    "        pass\n",
    "    \n",
    "for row in test_df:\n",
    "    try:\n",
    "        test_pos0 = [tokenizing(row[1]),row[2]] \n",
    "        test_pos.append(test_pos0)\n",
    "    except:\n",
    "        pass"
   ]
  },
  {
   "cell_type": "code",
   "execution_count": 8,
   "metadata": {
    "ExecuteTime": {
     "end_time": "2021-01-08T07:49:51.887762Z",
     "start_time": "2021-01-08T07:49:51.818158Z"
    }
   },
   "outputs": [],
   "source": [
    "tokens = [t for d in train_pos for t in d[0]]"
   ]
  },
  {
   "cell_type": "code",
   "execution_count": 9,
   "metadata": {
    "ExecuteTime": {
     "end_time": "2021-01-08T07:49:51.891116Z",
     "start_time": "2021-01-08T07:49:51.888982Z"
    }
   },
   "outputs": [
    {
     "name": "stdout",
     "output_type": "stream",
     "text": [
      "2159921\n"
     ]
    }
   ],
   "source": [
    "print(len(tokens))"
   ]
  },
  {
   "cell_type": "code",
   "execution_count": 10,
   "metadata": {
    "ExecuteTime": {
     "end_time": "2021-01-08T07:49:51.914235Z",
     "start_time": "2021-01-08T07:49:51.892719Z"
    }
   },
   "outputs": [],
   "source": [
    "text = nltk.Text(tokens,name='NMSC')"
   ]
  },
  {
   "cell_type": "code",
   "execution_count": 11,
   "metadata": {
    "ExecuteTime": {
     "end_time": "2021-01-08T07:49:53.394790Z",
     "start_time": "2021-01-08T07:49:51.915717Z"
    }
   },
   "outputs": [
    {
     "name": "stdout",
     "output_type": "stream",
     "text": [
      "<FreqDist with 49895 samples and 2159921 outcomes>\n"
     ]
    }
   ],
   "source": [
    "print(text.vocab())"
   ]
  },
  {
   "cell_type": "code",
   "execution_count": 12,
   "metadata": {
    "ExecuteTime": {
     "end_time": "2021-01-08T07:49:53.397677Z",
     "start_time": "2021-01-08T07:49:53.395989Z"
    }
   },
   "outputs": [],
   "source": [
    "nWords = 10000"
   ]
  },
  {
   "cell_type": "code",
   "execution_count": 13,
   "metadata": {
    "ExecuteTime": {
     "end_time": "2021-01-08T07:49:54.028149Z",
     "start_time": "2021-01-08T07:49:53.398661Z"
    }
   },
   "outputs": [],
   "source": [
    "selected_words = [f[0] for f in text.vocab().most_common(nWords)]"
   ]
  },
  {
   "cell_type": "code",
   "execution_count": 14,
   "metadata": {
    "ExecuteTime": {
     "end_time": "2021-01-08T08:03:23.043777Z",
     "start_time": "2021-01-08T07:49:54.029189Z"
    }
   },
   "outputs": [],
   "source": [
    "train_x = [term_frequency(d) for d, _ in train_pos]\n",
    "test_x = [term_frequency(d) for d, _ in test_pos]\n",
    "train_y = [c for _, c in train_pos]\n",
    "test_y = [c for _, c in test_pos]"
   ]
  },
  {
   "cell_type": "code",
   "execution_count": 15,
   "metadata": {
    "ExecuteTime": {
     "end_time": "2021-01-08T08:04:47.265637Z",
     "start_time": "2021-01-08T08:03:23.044990Z"
    }
   },
   "outputs": [],
   "source": [
    "x_train = np.asarray(train_x).astype('float32')\n",
    "x_test = np.asarray(test_x).astype('float32')\n",
    "\n",
    "y_train = np.asarray(train_y).astype('float32')\n",
    "y_test = np.asarray(test_y).astype('float32')"
   ]
  },
  {
   "cell_type": "code",
   "execution_count": 16,
   "metadata": {
    "ExecuteTime": {
     "end_time": "2021-01-08T08:04:47.269359Z",
     "start_time": "2021-01-08T08:04:47.266803Z"
    },
    "scrolled": true
   },
   "outputs": [
    {
     "data": {
      "text/plain": [
       "array([0., 1., 0., ..., 0., 1., 0.], dtype=float32)"
      ]
     },
     "execution_count": 16,
     "metadata": {},
     "output_type": "execute_result"
    }
   ],
   "source": [
    "y_train"
   ]
  },
  {
   "cell_type": "code",
   "execution_count": 17,
   "metadata": {
    "ExecuteTime": {
     "end_time": "2021-01-08T08:04:48.415185Z",
     "start_time": "2021-01-08T08:04:47.270297Z"
    }
   },
   "outputs": [],
   "source": [
    "model = models.Sequential()\n",
    "model.add(layers.Dense(64, activation='relu', input_shape=(nWords,)))\n",
    "model.add(layers.Dense(64, activation='relu'))\n",
    "model.add(layers.Dense(1, activation='sigmoid'))"
   ]
  },
  {
   "cell_type": "code",
   "execution_count": 18,
   "metadata": {
    "ExecuteTime": {
     "end_time": "2021-01-08T08:04:48.433427Z",
     "start_time": "2021-01-08T08:04:48.416350Z"
    }
   },
   "outputs": [],
   "source": [
    "model.compile(optimizer=optimizers.RMSprop(lr=0.001), loss=losses.binary_crossentropy, metrics=[metrics.binary_accuracy])"
   ]
  },
  {
   "cell_type": "code",
   "execution_count": null,
   "metadata": {
    "ExecuteTime": {
     "start_time": "2021-01-08T08:06:58.789Z"
    },
    "scrolled": true
   },
   "outputs": [],
   "source": [
    "model.fit(x_train, y_train, epochs=10, batch_size=512)\n",
    "results = model.evaluate(x_test, y_test)"
   ]
  },
  {
   "cell_type": "code",
   "execution_count": 20,
   "metadata": {
    "ExecuteTime": {
     "end_time": "2021-01-08T08:05:10.682264Z",
     "start_time": "2021-01-08T08:05:10.679395Z"
    }
   },
   "outputs": [
    {
     "data": {
      "text/plain": [
       "[0.41163212060928345, 0.8483399748802185]"
      ]
     },
     "execution_count": 20,
     "metadata": {},
     "output_type": "execute_result"
    }
   ],
   "source": [
    "results"
   ]
  },
  {
   "cell_type": "code",
   "execution_count": 21,
   "metadata": {
    "ExecuteTime": {
     "end_time": "2021-01-08T08:05:10.694079Z",
     "start_time": "2021-01-08T08:05:10.683620Z"
    }
   },
   "outputs": [],
   "source": [
    "def ppn(review):\n",
    "    token = tokenizing(review)\n",
    "    tf = term_frequency(token)\n",
    "    data = np.expand_dims(np.asarray(tf).astype('float32'), axis=0)\n",
    "    score = float(model.predict(data))\n",
    "    if(score > 0.5):\n",
    "        print(\"[{}]는 {:.2f}% 확률로 긍정 리뷰이지 않을까 추측해봅니다.^^\\n\".format(review, score * 100))\n",
    "    else:\n",
    "        print(\"[{}]는 {:.2f}% 확률로 부정 리뷰이지 않을까 추측해봅니다.^^;\\n\".format(review, (1 - score) * 100))"
   ]
  },
  {
   "cell_type": "code",
   "execution_count": 22,
   "metadata": {
    "ExecuteTime": {
     "end_time": "2021-01-08T08:05:10.778681Z",
     "start_time": "2021-01-08T08:05:10.695316Z"
    }
   },
   "outputs": [
    {
     "name": "stdout",
     "output_type": "stream",
     "text": [
      "[주연배우 때문에 봤어요]는 62.81% 확률로 부정 리뷰이지 않을까 추측해봅니다.^^;\n",
      "\n"
     ]
    }
   ],
   "source": [
    "ppn(\"주연배우 때문에 봤어요\")"
   ]
  },
  {
   "cell_type": "code",
   "execution_count": 23,
   "metadata": {
    "ExecuteTime": {
     "end_time": "2021-01-08T08:05:10.815846Z",
     "start_time": "2021-01-08T08:05:10.779918Z"
    }
   },
   "outputs": [
    {
     "name": "stdout",
     "output_type": "stream",
     "text": [
      "[이게 지금 정부에서 할 짓이냐.구멍가게도 아니고. 무능력한 것들이 정권을 잡으니 완전 개판이다.]는 98.99% 확률로 부정 리뷰이지 않을까 추측해봅니다.^^;\n",
      "\n"
     ]
    }
   ],
   "source": [
    "ppn(\"이게 지금 정부에서 할 짓이냐.구멍가게도 아니고. 무능력한 것들이 정권을 잡으니 완전 개판이다.\")"
   ]
  },
  {
   "cell_type": "code",
   "execution_count": 24,
   "metadata": {
    "ExecuteTime": {
     "end_time": "2021-01-08T08:05:10.848983Z",
     "start_time": "2021-01-08T08:05:10.817067Z"
    }
   },
   "outputs": [
    {
     "name": "stdout",
     "output_type": "stream",
     "text": [
      "[우리나라 정치인들이 보고 배워야 할 의인들♡]는 95.99% 확률로 긍정 리뷰이지 않을까 추측해봅니다.^^\n",
      "\n"
     ]
    }
   ],
   "source": [
    "ppn(\"우리나라 정치인들이 보고 배워야 할 의인들♡\")"
   ]
  },
  {
   "cell_type": "code",
   "execution_count": 25,
   "metadata": {
    "ExecuteTime": {
     "end_time": "2021-01-08T08:05:10.886235Z",
     "start_time": "2021-01-08T08:05:10.850194Z"
    }
   },
   "outputs": [
    {
     "name": "stdout",
     "output_type": "stream",
     "text": [
      "[믿고 보는 감독이지만 이번에는 아니네요]는 55.69% 확률로 긍정 리뷰이지 않을까 추측해봅니다.^^\n",
      "\n"
     ]
    }
   ],
   "source": [
    "ppn(\"믿고 보는 감독이지만 이번에는 아니네요\")"
   ]
  },
  {
   "cell_type": "code",
   "execution_count": 26,
   "metadata": {
    "ExecuteTime": {
     "end_time": "2021-01-08T08:05:10.890840Z",
     "start_time": "2021-01-08T08:05:10.887430Z"
    }
   },
   "outputs": [
    {
     "name": "stdout",
     "output_type": "stream",
     "text": [
      "Model: \"sequential\"\n",
      "_________________________________________________________________\n",
      "Layer (type)                 Output Shape              Param #   \n",
      "=================================================================\n",
      "dense (Dense)                (None, 64)                640064    \n",
      "_________________________________________________________________\n",
      "dense_1 (Dense)              (None, 64)                4160      \n",
      "_________________________________________________________________\n",
      "dense_2 (Dense)              (None, 1)                 65        \n",
      "=================================================================\n",
      "Total params: 644,289\n",
      "Trainable params: 644,289\n",
      "Non-trainable params: 0\n",
      "_________________________________________________________________\n"
     ]
    }
   ],
   "source": [
    "model.summary()"
   ]
  },
  {
   "cell_type": "code",
   "execution_count": 27,
   "metadata": {
    "ExecuteTime": {
     "end_time": "2021-01-08T08:05:10.895694Z",
     "start_time": "2021-01-08T08:05:10.891841Z"
    }
   },
   "outputs": [
    {
     "data": {
      "text/plain": [
       "[0.41163212060928345, 0.8483399748802185]"
      ]
     },
     "execution_count": 27,
     "metadata": {},
     "output_type": "execute_result"
    }
   ],
   "source": [
    "results"
   ]
  },
  {
   "cell_type": "code",
   "execution_count": 28,
   "metadata": {
    "ExecuteTime": {
     "end_time": "2021-01-08T08:05:10.935866Z",
     "start_time": "2021-01-08T08:05:10.899693Z"
    }
   },
   "outputs": [
    {
     "name": "stdout",
     "output_type": "stream",
     "text": [
      "[20164091 송희령]는 53.55% 확률로 긍정 리뷰이지 않을까 추측해봅니다.^^\n",
      "\n"
     ]
    }
   ],
   "source": [
    "ppn(\"20164091 송희령\")"
   ]
  },
  {
   "cell_type": "code",
   "execution_count": 29,
   "metadata": {
    "ExecuteTime": {
     "end_time": "2021-01-08T08:05:10.971098Z",
     "start_time": "2021-01-08T08:05:10.938803Z"
    }
   },
   "outputs": [
    {
     "name": "stdout",
     "output_type": "stream",
     "text": [
      "[싫다 좋다 싫다 싫다 좋다]는 79.18% 확률로 부정 리뷰이지 않을까 추측해봅니다.^^;\n",
      "\n"
     ]
    }
   ],
   "source": [
    "ppn(\"싫다 좋다 싫다 싫다 좋다\")"
   ]
  },
  {
   "cell_type": "code",
   "execution_count": 30,
   "metadata": {
    "ExecuteTime": {
     "end_time": "2021-01-08T08:05:11.005181Z",
     "start_time": "2021-01-08T08:05:10.973261Z"
    }
   },
   "outputs": [
    {
     "name": "stdout",
     "output_type": "stream",
     "text": [
      "[좋다 싫다 좋다 좋다 싫다]는 52.58% 확률로 부정 리뷰이지 않을까 추측해봅니다.^^;\n",
      "\n"
     ]
    }
   ],
   "source": [
    "ppn(\"좋다 싫다 좋다 좋다 싫다\")"
   ]
  },
  {
   "cell_type": "code",
   "execution_count": 31,
   "metadata": {
    "ExecuteTime": {
     "end_time": "2021-01-08T08:05:11.044389Z",
     "start_time": "2021-01-08T08:05:11.008695Z"
    }
   },
   "outputs": [
    {
     "name": "stdout",
     "output_type": "stream",
     "text": [
      "[좋다 좋다 좋다 좋다 좋다]는 93.16% 확률로 긍정 리뷰이지 않을까 추측해봅니다.^^\n",
      "\n"
     ]
    }
   ],
   "source": [
    "ppn(\"좋다 좋다 좋다 좋다 좋다\")"
   ]
  },
  {
   "cell_type": "code",
   "execution_count": null,
   "metadata": {
    "ExecuteTime": {
     "end_time": "2021-01-08T08:06:05.419893Z",
     "start_time": "2021-01-08T07:40:53.202Z"
    }
   },
   "outputs": [],
   "source": [
    "ppn(\"싫다 싫다 싫다 싫다 싫다\")"
   ]
  },
  {
   "cell_type": "code",
   "execution_count": null,
   "metadata": {
    "ExecuteTime": {
     "end_time": "2021-01-08T08:06:05.425611Z",
     "start_time": "2021-01-08T07:40:53.203Z"
    }
   },
   "outputs": [],
   "source": [
    "ppn(\"의인\")"
   ]
  },
  {
   "cell_type": "code",
   "execution_count": null,
   "metadata": {
    "ExecuteTime": {
     "end_time": "2021-01-08T08:06:05.426068Z",
     "start_time": "2021-01-08T07:40:53.204Z"
    }
   },
   "outputs": [],
   "source": [
    "ppn(\"좋다\")"
   ]
  },
  {
   "cell_type": "code",
   "execution_count": null,
   "metadata": {
    "ExecuteTime": {
     "end_time": "2021-01-08T08:06:05.426545Z",
     "start_time": "2021-01-08T07:40:53.205Z"
    }
   },
   "outputs": [],
   "source": [
    "ppn(\"싫다\")"
   ]
  },
  {
   "cell_type": "code",
   "execution_count": null,
   "metadata": {
    "ExecuteTime": {
     "end_time": "2021-01-08T08:06:05.427018Z",
     "start_time": "2021-01-08T07:40:53.206Z"
    }
   },
   "outputs": [],
   "source": [
    "ppn(\"잘 못 만든 영화\")"
   ]
  },
  {
   "cell_type": "code",
   "execution_count": null,
   "metadata": {
    "ExecuteTime": {
     "end_time": "2021-01-08T08:06:05.427558Z",
     "start_time": "2021-01-08T07:40:53.207Z"
    }
   },
   "outputs": [],
   "source": [
    "ppn(\"잘 만든 영화\")"
   ]
  },
  {
   "cell_type": "code",
   "execution_count": null,
   "metadata": {
    "ExecuteTime": {
     "end_time": "2021-01-08T08:06:05.428007Z",
     "start_time": "2021-01-08T07:40:53.208Z"
    }
   },
   "outputs": [],
   "source": [
    "ppn(\"더빙이 좋네요\")"
   ]
  },
  {
   "cell_type": "code",
   "execution_count": null,
   "metadata": {
    "ExecuteTime": {
     "end_time": "2021-01-08T08:06:05.428496Z",
     "start_time": "2021-01-08T07:40:53.208Z"
    }
   },
   "outputs": [],
   "source": [
    "ppn(\"dell\")"
   ]
  },
  {
   "cell_type": "code",
   "execution_count": null,
   "metadata": {
    "ExecuteTime": {
     "end_time": "2021-01-08T08:06:05.429000Z",
     "start_time": "2021-01-08T07:40:53.209Z"
    }
   },
   "outputs": [],
   "source": [
    "ppn(\"\n",
    "액션도 쩔고 계속 장소가 바뀌며 치달리는 영화라 지루하지도 않다! 황정민 이정재 박정민 연기 구멍이 없어서 더 좋은듯\")"
   ]
  },
  {
   "cell_type": "code",
   "execution_count": null,
   "metadata": {
    "ExecuteTime": {
     "end_time": "2021-01-08T08:06:05.429499Z",
     "start_time": "2021-01-08T07:40:53.210Z"
    }
   },
   "outputs": [],
   "source": [
    "ppn(\"액션도 쩔고 계속 장소가 바뀌며 치달리는 영화라 지루하지도 않다! 황정민 이정재 박정민 연기 구멍이 없어서 더 좋은듯\")"
   ]
  },
  {
   "cell_type": "code",
   "execution_count": null,
   "metadata": {
    "ExecuteTime": {
     "end_time": "2021-01-08T08:06:05.429991Z",
     "start_time": "2021-01-08T07:40:53.211Z"
    }
   },
   "outputs": [],
   "source": [
    "ppn(\"정신병걸리는 영화였음 뭔 되도안한 설정으로 서로 죽이려고 사람이 산다고? 태어나서 첨으로 평점달아본다 진짜로 ㅋ\")"
   ]
  },
  {
   "cell_type": "code",
   "execution_count": null,
   "metadata": {
    "ExecuteTime": {
     "end_time": "2021-01-08T08:06:05.430514Z",
     "start_time": "2021-01-08T07:40:53.212Z"
    }
   },
   "outputs": [],
   "source": [
    "ppn(\"화려하지만 개연성이 전혀 없는 스토리\")"
   ]
  },
  {
   "cell_type": "code",
   "execution_count": null,
   "metadata": {
    "ExecuteTime": {
     "end_time": "2021-01-08T08:06:05.430957Z",
     "start_time": "2021-01-08T07:40:53.212Z"
    }
   },
   "outputs": [],
   "source": [
    "ppn(\" 저는 평점에 속았습니다....\")"
   ]
  },
  {
   "cell_type": "code",
   "execution_count": null,
   "metadata": {
    "ExecuteTime": {
     "end_time": "2021-01-08T08:06:05.431478Z",
     "start_time": "2021-01-08T07:40:53.213Z"
    }
   },
   "outputs": [],
   "source": [
    "ppn(\"쟤네가 걸리고 싶어서 걸렸겠냐 ㅠㅠㅠ\")"
   ]
  },
  {
   "cell_type": "code",
   "execution_count": null,
   "metadata": {
    "ExecuteTime": {
     "end_time": "2021-01-08T08:06:05.431966Z",
     "start_time": "2021-01-08T07:40:53.214Z"
    }
   },
   "outputs": [],
   "source": [
    "ppn(\"서울시 주최 오페라관람 8500명은 전혀 검사도 안하고, 박원순 서울시장 장례식에 모여든 수만명, 해수욕장 인파 80 만명은 전혀 코로나랑 상관없다는 이야기냐? ,이렇게 되도록 그동안 방역불감증을 자초한 정부. 없는 휴일도 만들어내고, 외식 극장 문화쿠폰 발행까지 했던건 잘못이 아니냐?\")"
   ]
  },
  {
   "cell_type": "code",
   "execution_count": null,
   "metadata": {
    "ExecuteTime": {
     "end_time": "2021-01-08T08:06:05.432607Z",
     "start_time": "2021-01-08T07:40:53.215Z"
    }
   },
   "outputs": [],
   "source": [
    "ppn(\"이렇게 라이브인증을 하다니...에코 1도 없는 쌩목라이브에 댄스완벽..미친그룹이다 진짜 ㄷㄷㄷ\")"
   ]
  },
  {
   "cell_type": "code",
   "execution_count": null,
   "metadata": {
    "ExecuteTime": {
     "end_time": "2020-09-05T13:03:36.267341Z",
     "start_time": "2020-09-05T13:03:30.055Z"
    }
   },
   "outputs": [],
   "source": []
  }
 ],
 "metadata": {
  "hide_input": false,
  "kernelspec": {
   "display_name": "Python 3",
   "language": "python",
   "name": "python3"
  },
  "language_info": {
   "codemirror_mode": {
    "name": "ipython",
    "version": 3
   },
   "file_extension": ".py",
   "mimetype": "text/x-python",
   "name": "python",
   "nbconvert_exporter": "python",
   "pygments_lexer": "ipython3",
   "version": "3.6.9"
  },
  "varInspector": {
   "cols": {
    "lenName": 16,
    "lenType": 16,
    "lenVar": 40
   },
   "kernels_config": {
    "python": {
     "delete_cmd_postfix": "",
     "delete_cmd_prefix": "del ",
     "library": "var_list.py",
     "varRefreshCmd": "print(var_dic_list())"
    },
    "r": {
     "delete_cmd_postfix": ") ",
     "delete_cmd_prefix": "rm(",
     "library": "var_list.r",
     "varRefreshCmd": "cat(var_dic_list()) "
    }
   },
   "types_to_exclude": [
    "module",
    "function",
    "builtin_function_or_method",
    "instance",
    "_Feature"
   ],
   "window_display": false
  }
 },
 "nbformat": 4,
 "nbformat_minor": 2
}
